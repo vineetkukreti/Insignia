{
 "cells": [
  {
   "cell_type": "code",
   "execution_count": 2,
   "id": "fdfd31e2",
   "metadata": {},
   "outputs": [],
   "source": [
    "# pip install pytube"
   ]
  },
  {
   "cell_type": "code",
   "execution_count": 5,
   "id": "900f2072",
   "metadata": {},
   "outputs": [],
   "source": [
    "from pytube import YouTube\n",
    "\n",
    "# Replace 'your_video_url' with the actual URL of the YouTube video\n",
    "video_url = 'https://youtube.com/shorts/r97sKFj9e9A?si=ALYHvsBf_vQXaws7'\n",
    "yt = YouTube(video_url)\n",
    "\n"
   ]
  },
  {
   "cell_type": "code",
   "execution_count": 6,
   "id": "f70d65fa",
   "metadata": {},
   "outputs": [],
   "source": [
    "# Get all available streams\n",
    "streams = yt.streams\n",
    "\n"
   ]
  },
  {
   "cell_type": "code",
   "execution_count": 7,
   "id": "da9cdd7b",
   "metadata": {},
   "outputs": [],
   "source": [
    "# Filter streams to only get those with the 'mp4' format\n",
    "mp4_streams = streams.filter(file_extension='mp4')\n",
    "\n"
   ]
  },
  {
   "cell_type": "code",
   "execution_count": 8,
   "id": "0d384937",
   "metadata": {},
   "outputs": [],
   "source": [
    "# Get the highest resolution stream (you can adjust this based on your preference)\n",
    "highest_resolution_stream = mp4_streams.get_highest_resolution()\n",
    "\n"
   ]
  },
  {
   "cell_type": "code",
   "execution_count": 9,
   "id": "4b9a3dba",
   "metadata": {},
   "outputs": [
    {
     "data": {
      "text/plain": [
       "'C:\\\\Users\\\\vinee\\\\python\\\\Insignia\\\\News_Sentiment\\\\Source Handling\\\\This Used to Be a City in Ukraine shorts.mp4'"
      ]
     },
     "execution_count": 9,
     "metadata": {},
     "output_type": "execute_result"
    }
   ],
   "source": [
    "# Download the video\n",
    "highest_resolution_stream.download()"
   ]
  },
  {
   "cell_type": "code",
   "execution_count": null,
   "id": "44e29cc9",
   "metadata": {},
   "outputs": [],
   "source": []
  }
 ],
 "metadata": {
  "kernelspec": {
   "display_name": "Python 3 (ipykernel)",
   "language": "python",
   "name": "python3"
  },
  "language_info": {
   "codemirror_mode": {
    "name": "ipython",
    "version": 3
   },
   "file_extension": ".py",
   "mimetype": "text/x-python",
   "name": "python",
   "nbconvert_exporter": "python",
   "pygments_lexer": "ipython3",
   "version": "3.10.9"
  }
 },
 "nbformat": 4,
 "nbformat_minor": 5
}
